{
 "cells": [
  {
   "cell_type": "code",
   "execution_count": 1,
   "metadata": {},
   "outputs": [],
   "source": [
    "import pandas"
   ]
  },
  {
   "cell_type": "code",
   "execution_count": null,
   "metadata": {},
   "outputs": [],
   "source": [
    "import pandas as pd\n",
    "import numba as nb\n",
    "\n",
    "class InfoDataframe:\n",
    "    def __init__(self, dataframe):\n",
    "        self.dataframe = dataframe\n",
    "        \n",
    "\n",
    "    # Este método nos brinda los nombres de las columnas para pasar a través de GPT-3    \n",
    "    \n",
    "    def get_column_names(self):\n",
    "        \"\"\"\n",
    "        Obtiene los nombres de las columnas del dataframe.\n",
    "        \n",
    "        Returns:\n",
    "        - list: Lista de los nombres de las columnas del dataframe.\n",
    "        \"\"\"\n",
    "        return list(self.dataframe.columns)\n",
    "    \n",
    "    \n",
    "    def remove_categorical_columns(self):\n",
    "        \"\"\"\n",
    "        Elimina las columnas categóricas del dataframe.\n",
    "        \n",
    "        Returns:\n",
    "        - DataFrame: Nuevo dataframe sin las columnas categóricas.\n",
    "        \"\"\"\n",
    "        # Seleccionar todas las columnas que contienen valores categóricos\n",
    "        cat_cols = self.dataframe.select_dtypes(include=['object']).columns\n",
    "\n",
    "        # Eliminar las columnas seleccionadas del DataFrame\n",
    "        df = self.dataframe.drop(columns=cat_cols)\n",
    "        \n",
    "        return df\n"
   ]
  },
  {
   "cell_type": "code",
   "execution_count": null,
   "metadata": {},
   "outputs": [],
   "source": [
    "import pandas as pd\n",
    "import numba as nb\n",
    "\n",
    "class CleanDataframe:\n",
    "    def __init__(self, dataframe):\n",
    "        self.dataframe = dataframe\n",
    "    \n",
    "    # Este método puede limpiar un dataframe y eliminar datos duplicados y faltantes\n",
    "    \n",
    "    def clean_dataframe(self):\n",
    "        \"\"\"\n",
    "        Limpia el dataframe eliminando valores duplicados y faltantes.\n",
    "        \n",
    "        Returns:\n",
    "        - DataFrame: Nuevo dataframe limpio sin valores duplicados ni faltantes.\n",
    "        \"\"\"\n",
    "        # Limpiar valores duplicados\n",
    "        self.dataframe = self.dataframe.drop_duplicates()\n",
    "        \n",
    "        # Limpiar valores nulos\n",
    "        self.dataframe = self.dataframe.dropna()\n",
    "\n",
    "        # Limpiar valores NaN en filas completas\n",
    "        self.dataframe = self.dataframe.dropna(how='all')\n",
    "\n",
    "        return self.dataframe\n",
    "    \n",
    "    # Este método da formato estándar a los nombres de las columnas del dataframe\n",
    "    \n",
    "    def name_formater(self):\n",
    "        \"\"\"\n",
    "        Da formato estándar a los nombres de las columnas del dataframe.\n",
    "        \n",
    "        Returns:\n",
    "        - DataFrame: DataFrame con los nombres de las columnas en formato estándar.\n",
    "        \"\"\"\n",
    "        # Limpiar los nombres de las columnas y obtener los mejores\n",
    "        self.dataframe.columns = [x.lower().replace(\" \",\"_\").replace(\"?\",\"\")\\\n",
    "        .replace(\"-\",\"_\").replace(r\"/\",\"_\").replace(\"\\\\\",\"_\").replace(\"%\",'')\\\n",
    "        .replace(\")\",\"\").replace(r\"(\",\"\").replace(\"$\",\"\") for x in self.dataframe.columns]\n",
    "        \n",
    "        return self.dataframe\n"
   ]
  }
 ],
 "metadata": {
  "kernelspec": {
   "display_name": "artyfal",
   "language": "python",
   "name": "python3"
  },
  "language_info": {
   "codemirror_mode": {
    "name": "ipython",
    "version": 3
   },
   "file_extension": ".py",
   "mimetype": "text/x-python",
   "name": "python",
   "nbconvert_exporter": "python",
   "pygments_lexer": "ipython3",
   "version": "3.9.16"
  },
  "orig_nbformat": 4
 },
 "nbformat": 4,
 "nbformat_minor": 2
}
